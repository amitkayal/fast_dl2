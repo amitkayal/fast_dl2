{
 "cells": [
  {
   "cell_type": "markdown",
   "metadata": {},
   "source": [
    "## Finding multiple objects in a picture\n",
    "<img src='https://snag.gy/cGA5KC.jpg' style='width:600px' />"
   ]
  },
  {
   "cell_type": "markdown",
   "metadata": {},
   "source": [
    "## Using the SSD Approach, we will now have a grid\n",
    "\n",
    "So each Conv quadrant will be responsible for each part of the image. Why do we want each Convolution to be responsible for each part of the image? A concept called **receptive field**. Throughout your convolution layers, each piece of your tensor, has a receptive field. "
   ]
  },
  {
   "cell_type": "markdown",
   "metadata": {},
   "source": [
    "<img src='https://snag.gy/dOHkhK.jpg' />"
   ]
  },
  {
   "cell_type": "markdown",
   "metadata": {},
   "source": [
    "### Let's look at Microsoft Excel\n",
    "\n",
    "Our image went through a 3x3 kernel (right)\n",
    "\n",
    "<img src='https://snag.gy/WIus6J.jpg' style='width:600px' />\n",
    "\n",
    "Created a two channel output\n",
    "\n",
    "<img src='https://snag.gy/ktYBze.jpg' style = 'width:600px' />\n",
    "\n",
    "Then went through another channel output into max pooling (sparse area)\n",
    "\n",
    "<img src='https://snag.gy/ep97gX.jpg' style = 'width:600px' />\n",
    "\n",
    "If we trace one of the maxpool steps (pretend its a Conv2D stride 2 layer) backwards:\n",
    "\n",
    "<img src='https://snag.gy/XxoUle.jpg' style='width:600px' />\n",
    "\n",
    "Tracing back even farther:\n",
    "\n",
    "<img src='https://snag.gy/eVPjHF.jpg' style='width:600px' />\n",
    "\n",
    "Tracing back to the source image:\n",
    "\n",
    "<img src='https://snag.gy/GHi53P.jpg' style='width:600px' />\n",
    "\n",
    "The pixels in the middle have a lot of connections, and the edges don't have as many. The center of the box has more dependencies. This is critically important for understanding convolution receptive fields. "
   ]
  },
  {
   "cell_type": "code",
   "execution_count": null,
   "metadata": {},
   "outputs": [],
   "source": []
  }
 ],
 "metadata": {
  "kernelspec": {
   "display_name": "Python 3",
   "language": "python",
   "name": "python3"
  },
  "language_info": {
   "codemirror_mode": {
    "name": "ipython",
    "version": 3
   },
   "file_extension": ".py",
   "mimetype": "text/x-python",
   "name": "python",
   "nbconvert_exporter": "python",
   "pygments_lexer": "ipython3",
   "version": "3.6.4"
  }
 },
 "nbformat": 4,
 "nbformat_minor": 2
}
