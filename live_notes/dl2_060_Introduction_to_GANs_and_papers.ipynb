{
 "cells": [
  {
   "attachments": {},
   "cell_type": "markdown",
   "metadata": {},
   "source": [
    "# Lesson 13 \n",
    "\n",
    "Cyclical Learning Rates\n",
    "\n",
    "<img src='https://snag.gy/w5eaO7.jpg' style='width:600px' />\n",
    "\n",
    "Faster training of models \n",
    "- <a href='http://forums.fast.ai/t/cyclical-learning-rate-for-keras/2126' > link to fastai forums </a> \n",
    "- <a href='https://github.com/bckenstler/CLR' /> github repo </a>\n",
    "\n",
    "### New Style transfer paper out! \n",
    "\n",
    "<img src='https://snag.gy/ozWPOc.jpg' style='width:600px'/>\n",
    "\n",
    "### New GAN - Face generation \n",
    "\n",
    "<img src='https://snag.gy/1I8yAN.jpg' style='width:600px'/>\n",
    "\n",
    "### Bidirectional Transfer\n",
    "\n",
    "<a href='https://github.com/junyanz/CycleGAN'> github link</a>\n",
    "Takes a painting and turn it into a real photo. Can transfer styles back and forth in the examples\n",
    "\n",
    "<img src='https://snag.gy/SUpvRH.jpg' style='width:600px' />\n",
    "\n",
    "### Mean shift Clustering (more next week)\n",
    "\n",
    "<img src='https://snag.gy/2qbR8C.jpg' style='width:600px' />\n",
    "\n",
    "Using it for faster pre-processing of data items, such as CT scans. Can you combine approximate nearest neighbors with "
   ]
  },
  {
   "cell_type": "code",
   "execution_count": null,
   "metadata": {},
   "outputs": [],
   "source": []
  }
 ],
 "metadata": {
  "kernelspec": {
   "display_name": "Python 3",
   "language": "python",
   "name": "python3"
  },
  "language_info": {
   "codemirror_mode": {
    "name": "ipython",
    "version": 3
   },
   "file_extension": ".py",
   "mimetype": "text/x-python",
   "name": "python",
   "nbconvert_exporter": "python",
   "pygments_lexer": "ipython3",
   "version": "3.6.5"
  }
 },
 "nbformat": 4,
 "nbformat_minor": 2
}
