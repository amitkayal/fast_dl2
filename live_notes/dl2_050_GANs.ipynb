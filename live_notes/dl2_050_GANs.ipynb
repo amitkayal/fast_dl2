{
 "cells": [
  {
   "cell_type": "markdown",
   "metadata": {},
   "source": [
    "# Lesson 12: GAN's\n",
    "\n",
    "<img src='https://snag.gy/lAKoVw.jpg'  style='width:600px'/>\n",
    "\n",
    "### Notes from last week - language model for medicine\n",
    "\n",
    "<img src='https://snag.gy/k7nY3X.jpg' style='width:600px' />\n",
    "\n",
    "- **Seeding a language model.** Once the language model is informed and updated, it can be seeded with some words to get the generative model working on generating text. In this case, a language model was fed a number of texts, and the \"seed\" or the prompt was a question.  \n",
    "\n",
    "### Competition on training CiFAR10\n",
    "\n",
    "We are going to be building some barebones models. And currently ( as of april) - how fast can one train a model to get to 94% accuracy?\n",
    "\n",
    "<img src='https://snag.gy/SnOx7W.jpg' style='width:600px'/>"
   ]
  },
  {
   "cell_type": "code",
   "execution_count": null,
   "metadata": {},
   "outputs": [],
   "source": []
  }
 ],
 "metadata": {
  "kernelspec": {
   "display_name": "Python 3",
   "language": "python",
   "name": "python3"
  },
  "language_info": {
   "codemirror_mode": {
    "name": "ipython",
    "version": 3
   },
   "file_extension": ".py",
   "mimetype": "text/x-python",
   "name": "python",
   "nbconvert_exporter": "python",
   "pygments_lexer": "ipython3",
   "version": "3.6.5"
  }
 },
 "nbformat": 4,
 "nbformat_minor": 2
}
